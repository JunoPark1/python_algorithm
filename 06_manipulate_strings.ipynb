{
  "nbformat": 4,
  "nbformat_minor": 0,
  "metadata": {
    "colab": {
      "provenance": [],
      "authorship_tag": "ABX9TyMZTS+os3RFyZijY3Lrt5dd",
      "include_colab_link": true
    },
    "kernelspec": {
      "name": "python3",
      "display_name": "Python 3"
    },
    "language_info": {
      "name": "python"
    }
  },
  "cells": [
    {
      "cell_type": "markdown",
      "metadata": {
        "id": "view-in-github",
        "colab_type": "text"
      },
      "source": [
        "<a href=\"https://colab.research.google.com/github/JunoPark1/python_algorithm/blob/main/06_manipulate_strings.ipynb\" target=\"_parent\"><img src=\"https://colab.research.google.com/assets/colab-badge.svg\" alt=\"Open In Colab\"/></a>"
      ]
    },
    {
      "cell_type": "code",
      "source": [
        "from typing import List\n",
        "import collections\n",
        "import re"
      ],
      "metadata": {
        "id": "wWXvKzA5lBe7"
      },
      "execution_count": 8,
      "outputs": []
    },
    {
      "cell_type": "markdown",
      "source": [
        "### Q1. Valid Palindrome (https://leetcode.com/problems/valid-palindrome)"
      ],
      "metadata": {
        "id": "TeGaJH_ulV2V"
      }
    },
    {
      "cell_type": "code",
      "source": [
        "class Solution:\n",
        "    def isPalindrome(self, s: str) -> bool:\n",
        "      strs = []\n",
        "      for char in s:\n",
        "        if char.isalnum():\n",
        "          strs.append(char.lower()) # Pre-processing\n",
        "\n",
        "      while len(strs) > 1:\n",
        "        if strs.pop(0) != strs.pop():\n",
        "          return False\n",
        "\n",
        "      return True\n",
        "\n",
        "    def isPalindrome2(self, s: str) -> bool: # Optimization using the Deque\n",
        "      strs: Deque = collections.deque()\n",
        "\n",
        "      for char in s:\n",
        "        if char.isalnum():\n",
        "          strs.append(char.lower())\n",
        "\n",
        "      while len(strs) > 1:\n",
        "        if strs.popleft() != strs.pop():\n",
        "          return False\n",
        "\n",
        "      return True\n",
        "\n",
        "    def isPalindrome3(self, s: str) -> bool: # Slicing\n",
        "      s = s.lower()\n",
        "      s = re.sub('[^a-z0-9]', '', s) # Filtering input\n",
        "\n",
        "      return s == s[::-1]\n",
        "\n",
        "input = \"A man, a plan, a canal: Panama\"\n",
        "res1 = Solution().isPalindrome(input)\n",
        "res2 = Solution().isPalindrome2(input)\n",
        "res3 = Solution().isPalindrome3(input)\n",
        "print(res1, res2, res3)"
      ],
      "metadata": {
        "colab": {
          "base_uri": "https://localhost:8080/"
        },
        "id": "pHmp95sEleQi",
        "outputId": "ca3652a7-5290-46a1-817e-78cabcc0cba9"
      },
      "execution_count": 9,
      "outputs": [
        {
          "output_type": "stream",
          "name": "stdout",
          "text": [
            "True True True\n"
          ]
        }
      ]
    },
    {
      "cell_type": "markdown",
      "source": [
        "### Q2. Reverse String (https://leetcode.com/problems/reverse-string/)"
      ],
      "metadata": {
        "id": "KsGTy_87j1On"
      }
    },
    {
      "cell_type": "code",
      "execution_count": 3,
      "metadata": {
        "colab": {
          "base_uri": "https://localhost:8080/"
        },
        "id": "pf5hsPwpjvL6",
        "outputId": "612fdc1e-3e25-4ce4-e76b-30f32b90cadd"
      },
      "outputs": [
        {
          "output_type": "stream",
          "name": "stdout",
          "text": [
            "['o', 'l', 'l', 'e', 'h']\n",
            "['h', 'e', 'l', 'l', 'o']\n",
            "['o', 'l', 'l', 'e', 'h']\n"
          ]
        }
      ],
      "source": [
        "class Solution:\n",
        "    def reverseString(self, s: List[str]) -> None: # two pointers\n",
        "        left, right = 0, len(s) - 1\n",
        "        while left < right:\n",
        "            s[left], s[right] = s[right], s[left]\n",
        "            left += 1\n",
        "            right -= 1\n",
        "    def reverseString2(self, s: List[str]) -> None: # Pythonic way\n",
        "        s.reverse()\n",
        "    def reverseString3(self, s: List[str]) -> None: # Pythonic way\n",
        "        s[:] = s[::-1]\n",
        "\n",
        "input = [\"h\",\"e\",\"l\",\"l\",\"o\"]\n",
        "Solution().reverseString(input)\n",
        "print(input)\n",
        "Solution().reverseString2(input)\n",
        "print(input)\n",
        "Solution().reverseString3(input)\n",
        "print(input)"
      ]
    }
  ]
}