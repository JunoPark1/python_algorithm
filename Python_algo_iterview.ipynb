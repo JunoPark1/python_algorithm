{
  "nbformat": 4,
  "nbformat_minor": 0,
  "metadata": {
    "colab": {
      "provenance": [],
      "authorship_tag": "ABX9TyMtgdP5OgwTmKqwVi9SQBDG",
      "include_colab_link": true
    },
    "kernelspec": {
      "name": "python3",
      "display_name": "Python 3"
    },
    "language_info": {
      "name": "python"
    }
  },
  "cells": [
    {
      "cell_type": "markdown",
      "metadata": {
        "id": "view-in-github",
        "colab_type": "text"
      },
      "source": [
        "<a href=\"https://colab.research.google.com/github/JunoPark1/python_algorithm/blob/main/Python_algo_iterview.ipynb\" target=\"_parent\"><img src=\"https://colab.research.google.com/assets/colab-badge.svg\" alt=\"Open In Colab\"/></a>"
      ]
    },
    {
      "cell_type": "code",
      "source": [
        "from typing import List\n",
        "import collections\n",
        "import re"
      ],
      "metadata": {
        "id": "wWXvKzA5lBe7"
      },
      "execution_count": null,
      "outputs": []
    },
    {
      "cell_type": "markdown",
      "source": [
        "### Q1. Valid Palindrome (https://leetcode.com/problems/valid-palindrome)"
      ],
      "metadata": {
        "id": "TeGaJH_ulV2V"
      }
    },
    {
      "cell_type": "code",
      "source": [
        "class Solution:\n",
        "    def isPalindrome(self, s: str) -> bool:\n",
        "      strs = []\n",
        "      for char in s:\n",
        "        if char.isalnum():\n",
        "          strs.append(char.lower()) # Pre-processing\n",
        "\n",
        "      while len(strs) > 1:\n",
        "        if strs.pop(0) != strs.pop():\n",
        "          return False\n",
        "\n",
        "      return True\n",
        "\n",
        "    def isPalindrome2(self, s: str) -> bool: # Optimization using the Deque\n",
        "      strs: Deque = collections.deque()\n",
        "\n",
        "      for char in s:\n",
        "        if char.isalnum():\n",
        "          strs.append(char.lower())\n",
        "\n",
        "      while len(strs) > 1:\n",
        "        if strs.popleft() != strs.pop():\n",
        "          return False\n",
        "\n",
        "      return True\n",
        "\n",
        "    def isPalindrome3(self, s: str) -> bool: # Slicing\n",
        "      s = s.lower()\n",
        "      s = re.sub('[^a-z0-9]', '', s) # Filtering input\n",
        "\n",
        "      return s == s[::-1]\n",
        "\n",
        "input = \"A man, a plan, a canal: Panama\"\n",
        "res1 = Solution().isPalindrome(input)\n",
        "res2 = Solution().isPalindrome2(input)\n",
        "res3 = Solution().isPalindrome3(input)\n",
        "print(res1, res2, res3)"
      ],
      "metadata": {
        "colab": {
          "base_uri": "https://localhost:8080/"
        },
        "id": "pHmp95sEleQi",
        "outputId": "ca3652a7-5290-46a1-817e-78cabcc0cba9"
      },
      "execution_count": null,
      "outputs": [
        {
          "output_type": "stream",
          "name": "stdout",
          "text": [
            "True True True\n"
          ]
        }
      ]
    },
    {
      "cell_type": "markdown",
      "source": [
        "### Q2. Reverse String (https://leetcode.com/problems/reverse-string/)"
      ],
      "metadata": {
        "id": "KsGTy_87j1On"
      }
    },
    {
      "cell_type": "code",
      "execution_count": null,
      "metadata": {
        "colab": {
          "base_uri": "https://localhost:8080/"
        },
        "id": "pf5hsPwpjvL6",
        "outputId": "e9cda148-a52e-4107-b0b8-1266182a26d2"
      },
      "outputs": [
        {
          "output_type": "stream",
          "name": "stdout",
          "text": [
            "['o', 'l', 'l', 'e', 'h']\n",
            "['h', 'e', 'l', 'l', 'o']\n",
            "['o', 'l', 'l', 'e', 'h']\n",
            "time1:  8.440017700195312e-05\n",
            "time2:  0.004097938537597656\n",
            "time3:  0.0006513595581054688\n"
          ]
        }
      ],
      "source": [
        "class Solution:\n",
        "    def reverseString(self, s: List[str]) -> None: # two pointers\n",
        "        left, right = 0, len(s) - 1\n",
        "        while left < right:\n",
        "            s[left], s[right] = s[right], s[left]\n",
        "            left += 1\n",
        "            right -= 1\n",
        "    def reverseString2(self, s: List[str]) -> None: # Pythonic way\n",
        "        s.reverse()\n",
        "    def reverseString3(self, s: List[str]) -> None: # Pythonic way\n",
        "        s[:] = s[::-1]\n",
        "\n",
        "input = [\"h\",\"e\",\"l\",\"l\",\"o\"]\n",
        "Solution().reverseString(input)\n",
        "print(input)\n",
        "Solution().reverseString2(input)\n",
        "print(input)\n",
        "Solution().reverseString3(input)\n",
        "print(input)"
      ]
    },
    {
      "cell_type": "markdown",
      "source": [
        "### 03. Reorder Log File (https://leetcode.com/problems/reorder-data-in-log-files)"
      ],
      "metadata": {
        "id": "zbkaNsAxtDd9"
      }
    },
    {
      "cell_type": "code",
      "source": [
        "class Solution:\n",
        "    def reorderLogFiles(self, logs: List[str]) -> List[str]:\n",
        "        letters, digits = [], []\n",
        "        for log in logs:\n",
        "            if log.split()[1].isdigit():\n",
        "                digits.append(log)\n",
        "            else:\n",
        "                letters.append(log)\n",
        "\n",
        "        letters.sort(key=lambda x: (x.split()[1:], x.split()[0]))\n",
        "        return letters + digits\n",
        "\n",
        "input = [\"dig1 8 1 5 1\",\"let1 art can\",\"dig2 3 6\",\"let2 own kit dig\",\"let3 art zero\"]\n",
        "Solution().reorderLogFiles(input)"
      ],
      "metadata": {
        "colab": {
          "base_uri": "https://localhost:8080/"
        },
        "id": "uuCnai6Luo-O",
        "outputId": "ee783615-2252-4b84-8d5d-7845c4867b0b"
      },
      "execution_count": null,
      "outputs": [
        {
          "output_type": "execute_result",
          "data": {
            "text/plain": [
              "['let1 art can', 'let2 art zero', 'let3 art zero', 'dig1 8 1 5 1', 'dig2 3 6']"
            ]
          },
          "metadata": {},
          "execution_count": 13
        }
      ]
    },
    {
      "cell_type": "markdown",
      "source": [
        "### 04. Most Common Word (https://leetcode.com/problems/most-common-word)"
      ],
      "metadata": {
        "id": "Ad2pGCdSv__Q"
      }
    },
    {
      "cell_type": "code",
      "source": [
        "class Solution:\n",
        "    def mostCommonWord(self, paragraph: str, banned: List[str]) -> str:\n",
        "        words = [word for word in re.sub(r'[^\\w]', ' ', paragraph).lower().split() if word not in banned]\n",
        "\n",
        "        counts = collections.Counter(words)\n",
        "        # print(counts)\n",
        "        print(counts.mostCommonWord)\n",
        "        # print(counts.most_common(1))\n",
        "        # return counts.most_common(1)[0][0]\n",
        "        # return counts.most_common(1)[0][0]\n",
        "\n",
        "paragraph = \"Bob hit a ball, the hit BALL flew far after it was hit.\"\n",
        "banned = [\"hit\"]\n",
        "Solution().mostCommonWord(paragraph, banned)"
      ],
      "metadata": {
        "colab": {
          "base_uri": "https://localhost:8080/",
          "height": 317
        },
        "id": "aM_KZMpp2R7P",
        "outputId": "0020eccf-2241-471a-f282-5b3a453e1c03"
      },
      "execution_count": null,
      "outputs": [
        {
          "output_type": "error",
          "ename": "AttributeError",
          "evalue": "'Counter' object has no attribute 'mostCommonWord'",
          "traceback": [
            "\u001b[0;31m---------------------------------------------------------------------------\u001b[0m",
            "\u001b[0;31mAttributeError\u001b[0m                            Traceback (most recent call last)",
            "\u001b[0;32m<ipython-input-21-d35f05f1ec75>\u001b[0m in \u001b[0;36m<cell line: 14>\u001b[0;34m()\u001b[0m\n\u001b[1;32m     12\u001b[0m \u001b[0mparagraph\u001b[0m \u001b[0;34m=\u001b[0m \u001b[0;34m\"Bob hit a ball, the hit BALL flew far after it was hit.\"\u001b[0m\u001b[0;34m\u001b[0m\u001b[0;34m\u001b[0m\u001b[0m\n\u001b[1;32m     13\u001b[0m \u001b[0mbanned\u001b[0m \u001b[0;34m=\u001b[0m \u001b[0;34m[\u001b[0m\u001b[0;34m\"hit\"\u001b[0m\u001b[0;34m]\u001b[0m\u001b[0;34m\u001b[0m\u001b[0;34m\u001b[0m\u001b[0m\n\u001b[0;32m---> 14\u001b[0;31m \u001b[0mSolution\u001b[0m\u001b[0;34m(\u001b[0m\u001b[0;34m)\u001b[0m\u001b[0;34m.\u001b[0m\u001b[0mmostCommonWord\u001b[0m\u001b[0;34m(\u001b[0m\u001b[0mparagraph\u001b[0m\u001b[0;34m,\u001b[0m \u001b[0mbanned\u001b[0m\u001b[0;34m)\u001b[0m\u001b[0;34m\u001b[0m\u001b[0;34m\u001b[0m\u001b[0m\n\u001b[0m",
            "\u001b[0;32m<ipython-input-21-d35f05f1ec75>\u001b[0m in \u001b[0;36mmostCommonWord\u001b[0;34m(self, paragraph, banned)\u001b[0m\n\u001b[1;32m      5\u001b[0m         \u001b[0mcounts\u001b[0m \u001b[0;34m=\u001b[0m \u001b[0mcollections\u001b[0m\u001b[0;34m.\u001b[0m\u001b[0mCounter\u001b[0m\u001b[0;34m(\u001b[0m\u001b[0mwords\u001b[0m\u001b[0;34m)\u001b[0m\u001b[0;34m\u001b[0m\u001b[0;34m\u001b[0m\u001b[0m\n\u001b[1;32m      6\u001b[0m         \u001b[0;31m# print(counts)\u001b[0m\u001b[0;34m\u001b[0m\u001b[0;34m\u001b[0m\u001b[0m\n\u001b[0;32m----> 7\u001b[0;31m         \u001b[0mprint\u001b[0m\u001b[0;34m(\u001b[0m\u001b[0mcounts\u001b[0m\u001b[0;34m.\u001b[0m\u001b[0mmostCommonWord\u001b[0m\u001b[0;34m)\u001b[0m\u001b[0;34m\u001b[0m\u001b[0;34m\u001b[0m\u001b[0m\n\u001b[0m\u001b[1;32m      8\u001b[0m         \u001b[0;31m# print(counts.most_common(1))\u001b[0m\u001b[0;34m\u001b[0m\u001b[0;34m\u001b[0m\u001b[0m\n\u001b[1;32m      9\u001b[0m         \u001b[0;31m# return counts.most_common(1)[0][0]\u001b[0m\u001b[0;34m\u001b[0m\u001b[0;34m\u001b[0m\u001b[0m\n",
            "\u001b[0;31mAttributeError\u001b[0m: 'Counter' object has no attribute 'mostCommonWord'"
          ]
        }
      ]
    }
  ]
}